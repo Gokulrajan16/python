{
  "nbformat": 4,
  "nbformat_minor": 0,
  "metadata": {
    "colab": {
      "provenance": [],
      "toc_visible": true,
      "authorship_tag": "ABX9TyMqnjlTI3XZv0y3157gcnYK",
      "include_colab_link": true
    },
    "kernelspec": {
      "name": "python3",
      "display_name": "Python 3"
    },
    "language_info": {
      "name": "python"
    }
  },
  "cells": [
    {
      "cell_type": "markdown",
      "metadata": {
        "id": "view-in-github",
        "colab_type": "text"
      },
      "source": [
        "<a href=\"https://colab.research.google.com/github/Gokulrajan16/python/blob/main/numpy_practice.ipynb\" target=\"_parent\"><img src=\"https://colab.research.google.com/assets/colab-badge.svg\" alt=\"Open In Colab\"/></a>"
      ]
    },
    {
      "cell_type": "code",
      "execution_count": 1,
      "metadata": {
        "id": "26cW4e4lbWq4"
      },
      "outputs": [],
      "source": [
        "import numpy as np"
      ]
    },
    {
      "cell_type": "code",
      "source": [],
      "metadata": {
        "id": "F6ufpHbqk1X5"
      },
      "execution_count": null,
      "outputs": []
    },
    {
      "cell_type": "markdown",
      "source": [
        "List vs Numpy"
      ],
      "metadata": {
        "id": "E58HRRutk-YC"
      }
    },
    {
      "cell_type": "code",
      "source": [
        "from time import process_time"
      ],
      "metadata": {
        "id": "KqTgbtYUlDIk"
      },
      "execution_count": 4,
      "outputs": []
    },
    {
      "cell_type": "code",
      "source": [
        "python_list=[i for i in range(20000)]\n",
        "start_time=process_time()\n",
        "python_list=[i+5 for i in python_list]\n",
        "end_time=process_time()\n",
        "print(end_time-start_time)"
      ],
      "metadata": {
        "colab": {
          "base_uri": "https://localhost:8080/"
        },
        "id": "dzSFT44JlGqn",
        "outputId": "a9ff63d6-b09f-48ac-f882-1dd0366f7822"
      },
      "execution_count": 6,
      "outputs": [
        {
          "output_type": "stream",
          "name": "stdout",
          "text": [
            "0.0036576149999998364\n"
          ]
        }
      ]
    },
    {
      "cell_type": "code",
      "source": [
        "np_array=np.array([i for i in range(20000)])\n",
        "start_time=process_time()\n",
        "np_array+=5\n",
        "end_time=process_time()\n",
        "print(end_time-start_time)"
      ],
      "metadata": {
        "colab": {
          "base_uri": "https://localhost:8080/"
        },
        "id": "yaI65LdUqDOt",
        "outputId": "79c83833-7004-40a2-faea-c1c565f049af"
      },
      "execution_count": 8,
      "outputs": [
        {
          "output_type": "stream",
          "name": "stdout",
          "text": [
            "0.0017805580000000987\n"
          ]
        }
      ]
    },
    {
      "cell_type": "code",
      "source": [
        "list1=[1,2,3,4,5]\n",
        "print(list1)\n",
        "type(list1)"
      ],
      "metadata": {
        "colab": {
          "base_uri": "https://localhost:8080/"
        },
        "id": "82HfeLa-0qKB",
        "outputId": "2aba36d0-0597-42fb-b2bc-24868d17b461"
      },
      "execution_count": 9,
      "outputs": [
        {
          "output_type": "stream",
          "name": "stdout",
          "text": [
            "[1, 2, 3, 4, 5]\n"
          ]
        },
        {
          "output_type": "execute_result",
          "data": {
            "text/plain": [
              "list"
            ]
          },
          "metadata": {},
          "execution_count": 9
        }
      ]
    },
    {
      "cell_type": "code",
      "source": [
        "#creating a 1 dim array\n",
        "a=np.array([1,2,3,4,5])\n",
        "print(a)"
      ],
      "metadata": {
        "colab": {
          "base_uri": "https://localhost:8080/"
        },
        "id": "o5YlVuDN05xS",
        "outputId": "bf69ab0b-af4a-410c-a0b2-17892f000a44"
      },
      "execution_count": 10,
      "outputs": [
        {
          "output_type": "stream",
          "name": "stdout",
          "text": [
            "[1 2 3 4 5]\n"
          ]
        }
      ]
    },
    {
      "cell_type": "code",
      "source": [
        "a.shape"
      ],
      "metadata": {
        "colab": {
          "base_uri": "https://localhost:8080/"
        },
        "id": "i7PyM4hG1q47",
        "outputId": "f3bb17af-f7af-440c-93a3-5b249686e1e2"
      },
      "execution_count": 11,
      "outputs": [
        {
          "output_type": "execute_result",
          "data": {
            "text/plain": [
              "(5,)"
            ]
          },
          "metadata": {},
          "execution_count": 11
        }
      ]
    },
    {
      "cell_type": "code",
      "source": [
        "b=np.array([(1,2,3,4,5),(6,7,8,9,10)])\n",
        "print(b)\n",
        "b.shape"
      ],
      "metadata": {
        "colab": {
          "base_uri": "https://localhost:8080/"
        },
        "id": "VglDJuTQ1u9z",
        "outputId": "02425dc0-272c-4609-b9cf-f91d9ee61567"
      },
      "execution_count": 14,
      "outputs": [
        {
          "output_type": "stream",
          "name": "stdout",
          "text": [
            "[[ 1  2  3  4  5]\n",
            " [ 6  7  8  9 10]]\n"
          ]
        },
        {
          "output_type": "execute_result",
          "data": {
            "text/plain": [
              "(2, 5)"
            ]
          },
          "metadata": {},
          "execution_count": 14
        }
      ]
    },
    {
      "cell_type": "code",
      "source": [
        "c=np.array([(1,2,3,4,5),(6,7,8,9,10)],dtype=float)\n",
        "print(c)"
      ],
      "metadata": {
        "colab": {
          "base_uri": "https://localhost:8080/"
        },
        "id": "WdWPY-OK15uZ",
        "outputId": "806ac399-6a8a-4541-fbc9-c41a08bd42c0"
      },
      "execution_count": 16,
      "outputs": [
        {
          "output_type": "stream",
          "name": "stdout",
          "text": [
            "[[ 1.  2.  3.  4.  5.]\n",
            " [ 6.  7.  8.  9. 10.]]\n"
          ]
        }
      ]
    },
    {
      "cell_type": "markdown",
      "source": [
        "Initial placeholders of numpy array\n"
      ],
      "metadata": {
        "id": "enERScbb2LxS"
      }
    },
    {
      "cell_type": "code",
      "source": [
        "x=np.zeros((4,5),dtype=int)\n",
        "print(x)"
      ],
      "metadata": {
        "colab": {
          "base_uri": "https://localhost:8080/"
        },
        "id": "5QSE7cdK2Ti-",
        "outputId": "cbf53521-61aa-4c5a-c080-acf17caba670"
      },
      "execution_count": 19,
      "outputs": [
        {
          "output_type": "stream",
          "name": "stdout",
          "text": [
            "[[0 0 0 0 0]\n",
            " [0 0 0 0 0]\n",
            " [0 0 0 0 0]\n",
            " [0 0 0 0 0]]\n"
          ]
        }
      ]
    },
    {
      "cell_type": "code",
      "source": [
        "#create an identity matrix\n",
        "a=np.eye(5,dtype=int)\n",
        "print(a)"
      ],
      "metadata": {
        "colab": {
          "base_uri": "https://localhost:8080/"
        },
        "id": "7pGpWzOb2oaQ",
        "outputId": "50231300-2d73-4d36-b721-279744721d7d"
      },
      "execution_count": 23,
      "outputs": [
        {
          "output_type": "stream",
          "name": "stdout",
          "text": [
            "[[1 0 0 0 0]\n",
            " [0 1 0 0 0]\n",
            " [0 0 1 0 0]\n",
            " [0 0 0 1 0]\n",
            " [0 0 0 0 1]]\n"
          ]
        }
      ]
    },
    {
      "cell_type": "code",
      "source": [
        "#create a numpy array with random values\n",
        "b=np.random.random((3,4))\n",
        "print(b)\n"
      ],
      "metadata": {
        "colab": {
          "base_uri": "https://localhost:8080/"
        },
        "id": "DcmW6Kam2su3",
        "outputId": "b829a42f-3c6e-4d5b-8f90-45c8d5d220eb"
      },
      "execution_count": 26,
      "outputs": [
        {
          "output_type": "stream",
          "name": "stdout",
          "text": [
            "[[0.03517196 0.21507838 0.33931451 0.91860323]\n",
            " [0.30541145 0.94833047 0.51797299 0.24381628]\n",
            " [0.41208289 0.67101044 0.60957374 0.28525659]]\n"
          ]
        }
      ]
    },
    {
      "cell_type": "code",
      "source": [
        "c=np.random.randint(10,100,(100,100))\n",
        "print(c)"
      ],
      "metadata": {
        "colab": {
          "base_uri": "https://localhost:8080/"
        },
        "id": "iHRNChO-2_Yp",
        "outputId": "8b54c8dd-5da4-4437-a50d-6b21d86a9e48"
      },
      "execution_count": 28,
      "outputs": [
        {
          "output_type": "stream",
          "name": "stdout",
          "text": [
            "[[85 81 81 ... 29 16 56]\n",
            " [62 85 47 ... 11 74 15]\n",
            " [39 51 10 ... 15 14 56]\n",
            " ...\n",
            " [79 22 91 ... 62 75 55]\n",
            " [82 73 17 ... 60 59 94]\n",
            " [58 69 82 ... 35 47 44]]\n"
          ]
        }
      ]
    },
    {
      "cell_type": "code",
      "source": [
        "#create a list to numpy array\n",
        "list2=[5,6,7,8,20]\n",
        "np_array=np.asarray(list2)\n",
        "print(np_array)\n",
        "type(np_array)"
      ],
      "metadata": {
        "colab": {
          "base_uri": "https://localhost:8080/"
        },
        "id": "SUagGL0e3dys",
        "outputId": "8d112762-e310-4912-eb79-93c198177abc"
      },
      "execution_count": 30,
      "outputs": [
        {
          "output_type": "stream",
          "name": "stdout",
          "text": [
            "[ 5  6  7  8 20]\n"
          ]
        },
        {
          "output_type": "execute_result",
          "data": {
            "text/plain": [
              "numpy.ndarray"
            ]
          },
          "metadata": {},
          "execution_count": 30
        }
      ]
    },
    {
      "cell_type": "markdown",
      "source": [
        "Analysing a numpy array"
      ],
      "metadata": {
        "id": "OVXt4gBX4KIL"
      }
    },
    {
      "cell_type": "code",
      "source": [
        "e=np.random.randint(10,90,(6,6,6))\n",
        "print(e)"
      ],
      "metadata": {
        "colab": {
          "base_uri": "https://localhost:8080/"
        },
        "id": "3hp8jEqN4PzU",
        "outputId": "b6d1548e-1e97-4754-c7be-fc6a1e40b331"
      },
      "execution_count": 35,
      "outputs": [
        {
          "output_type": "stream",
          "name": "stdout",
          "text": [
            "[[[48 20 79 45 30 63]\n",
            "  [73 14 51 26 55 86]\n",
            "  [56 34 30 87 15 39]\n",
            "  [47 29 77 81 46 49]\n",
            "  [29 24 23 59 79 37]\n",
            "  [55 84 75 70 78 54]]\n",
            "\n",
            " [[24 21 17 24 35 25]\n",
            "  [39 31 78 38 83 87]\n",
            "  [40 30 86 32 13 58]\n",
            "  [70 81 44 42 47 80]\n",
            "  [16 61 20 24 49 56]\n",
            "  [62 42 15 19 77 59]]\n",
            "\n",
            " [[70 42 80 46 36 42]\n",
            "  [54 46 75 45 46 40]\n",
            "  [58 69 11 43 10 55]\n",
            "  [72 40 89 26 44 34]\n",
            "  [51 46 52 37 71 25]\n",
            "  [56 88 35 12 32 21]]\n",
            "\n",
            " [[17 18 79 76 89 40]\n",
            "  [32 10 70 38 24 67]\n",
            "  [40 21 13 79 58 81]\n",
            "  [24 71 88 54 57 70]\n",
            "  [40 82 30 42 58 56]\n",
            "  [74 79 69 37 81 83]]\n",
            "\n",
            " [[16 70 89 66 54 26]\n",
            "  [86 14 59 49 58 43]\n",
            "  [15 27 74 50 77 22]\n",
            "  [25 10 48 46 11 74]\n",
            "  [36 29 53 20 52 42]\n",
            "  [76 12 70 10 28 76]]\n",
            "\n",
            " [[80 63 88 34 22 35]\n",
            "  [39 67 47 20 55 10]\n",
            "  [84 32 43 77 51 70]\n",
            "  [35 60 60 12 67 38]\n",
            "  [75 77 50 82 84 42]\n",
            "  [18 17 45 78 77 16]]]\n"
          ]
        }
      ]
    },
    {
      "cell_type": "code",
      "source": [
        "print(e.shape)"
      ],
      "metadata": {
        "colab": {
          "base_uri": "https://localhost:8080/"
        },
        "id": "SJkKh2fP4pPz",
        "outputId": "bfbb732f-0850-47cc-95e0-45602a2c40d1"
      },
      "execution_count": 36,
      "outputs": [
        {
          "output_type": "stream",
          "name": "stdout",
          "text": [
            "(6, 6, 6)\n"
          ]
        }
      ]
    },
    {
      "cell_type": "code",
      "source": [
        "print(e.ndim)"
      ],
      "metadata": {
        "colab": {
          "base_uri": "https://localhost:8080/"
        },
        "id": "woculQKj4v1s",
        "outputId": "dad0bea9-2c82-4bef-dc14-ea8acb9540f6"
      },
      "execution_count": 37,
      "outputs": [
        {
          "output_type": "stream",
          "name": "stdout",
          "text": [
            "3\n"
          ]
        }
      ]
    },
    {
      "cell_type": "code",
      "source": [
        "print(e.size)"
      ],
      "metadata": {
        "colab": {
          "base_uri": "https://localhost:8080/"
        },
        "id": "MTQC0K5Y41eo",
        "outputId": "e1957cfd-da73-45cd-ed3e-1a8a2c0ea045"
      },
      "execution_count": 38,
      "outputs": [
        {
          "output_type": "stream",
          "name": "stdout",
          "text": [
            "216\n"
          ]
        }
      ]
    },
    {
      "cell_type": "code",
      "source": [
        "print(c.dtype)"
      ],
      "metadata": {
        "colab": {
          "base_uri": "https://localhost:8080/"
        },
        "id": "7leLsQRj5DFT",
        "outputId": "fe5c87b8-2afa-423d-e8dc-420fae4a684b"
      },
      "execution_count": 39,
      "outputs": [
        {
          "output_type": "stream",
          "name": "stdout",
          "text": [
            "int64\n"
          ]
        }
      ]
    },
    {
      "cell_type": "code",
      "source": [],
      "metadata": {
        "id": "7y3utGia5GFQ"
      },
      "execution_count": null,
      "outputs": []
    },
    {
      "cell_type": "markdown",
      "source": [
        "Mathematical operations on a np array\n"
      ],
      "metadata": {
        "id": "Vlc-EQdr5Lf_"
      }
    },
    {
      "cell_type": "code",
      "source": [
        "list1=[1,2,3,4,5]\n",
        "list2=[6,7,8,9,10]\n",
        "print(list1+list2)"
      ],
      "metadata": {
        "colab": {
          "base_uri": "https://localhost:8080/"
        },
        "id": "H8_AoY6j5QQ3",
        "outputId": "3931d612-4dfc-44a3-f423-2c403aea6366"
      },
      "execution_count": 41,
      "outputs": [
        {
          "output_type": "stream",
          "name": "stdout",
          "text": [
            "[1, 2, 3, 4, 5, 6, 7, 8, 9, 10]\n"
          ]
        }
      ]
    },
    {
      "cell_type": "code",
      "source": [
        "a=np.random.randint(0,10,(3,3))\n",
        "b=np.random.randint(10,20,(3,3))\n",
        "print(a)\n",
        "print(b)"
      ],
      "metadata": {
        "colab": {
          "base_uri": "https://localhost:8080/"
        },
        "id": "njVB5rTz5dO_",
        "outputId": "beb89503-a7d8-4c15-cce5-a368516c8457"
      },
      "execution_count": 44,
      "outputs": [
        {
          "output_type": "stream",
          "name": "stdout",
          "text": [
            "[[1 1 6]\n",
            " [8 9 6]\n",
            " [5 8 8]]\n",
            "[[15 12 18]\n",
            " [16 16 18]\n",
            " [14 10 13]]\n"
          ]
        }
      ]
    },
    {
      "cell_type": "code",
      "source": [
        "print(a+b)\n",
        "print(a-b)\n",
        "print(a*b)\n",
        "print(a/b)"
      ],
      "metadata": {
        "colab": {
          "base_uri": "https://localhost:8080/"
        },
        "id": "NZRwutT651Q1",
        "outputId": "f6fc5a56-4f19-4894-e5f0-4cfe88c001f1"
      },
      "execution_count": 46,
      "outputs": [
        {
          "output_type": "stream",
          "name": "stdout",
          "text": [
            "[[16 13 24]\n",
            " [24 25 24]\n",
            " [19 18 21]]\n",
            "[[-14 -11 -12]\n",
            " [ -8  -7 -12]\n",
            " [ -9  -2  -5]]\n",
            "[[ 15  12 108]\n",
            " [128 144 108]\n",
            " [ 70  80 104]]\n",
            "[[0.06666667 0.08333333 0.33333333]\n",
            " [0.5        0.5625     0.33333333]\n",
            " [0.35714286 0.8        0.61538462]]\n"
          ]
        }
      ]
    },
    {
      "cell_type": "code",
      "source": [
        "print(np.add(a,b))\n",
        "print(np.subtract(a,b))\n",
        "print(np.multiply(a,b))\n",
        "print(np.divide(a,b))"
      ],
      "metadata": {
        "colab": {
          "base_uri": "https://localhost:8080/"
        },
        "id": "scas7Sxm6ILR",
        "outputId": "66e0f587-14f0-4fef-f06f-d0e3bcb10058"
      },
      "execution_count": 48,
      "outputs": [
        {
          "output_type": "stream",
          "name": "stdout",
          "text": [
            "[[16 13 24]\n",
            " [24 25 24]\n",
            " [19 18 21]]\n",
            "[[-14 -11 -12]\n",
            " [ -8  -7 -12]\n",
            " [ -9  -2  -5]]\n",
            "[[ 15  12 108]\n",
            " [128 144 108]\n",
            " [ 70  80 104]]\n",
            "[[0.06666667 0.08333333 0.33333333]\n",
            " [0.5        0.5625     0.33333333]\n",
            " [0.35714286 0.8        0.61538462]]\n"
          ]
        }
      ]
    },
    {
      "cell_type": "code",
      "source": [],
      "metadata": {
        "id": "eKpJK5vT6eoV"
      },
      "execution_count": null,
      "outputs": []
    },
    {
      "cell_type": "markdown",
      "source": [
        "Array Manipulation"
      ],
      "metadata": {
        "id": "fPEedflh6mw5"
      }
    },
    {
      "cell_type": "code",
      "source": [
        "array=np.random.randint(0,10,(4,5))\n",
        "print(array)\n",
        "print(array.shape)"
      ],
      "metadata": {
        "colab": {
          "base_uri": "https://localhost:8080/"
        },
        "id": "jsdxNsBo6uij",
        "outputId": "eb31e46e-235a-4642-a2f6-8e48d663cdef"
      },
      "execution_count": 51,
      "outputs": [
        {
          "output_type": "stream",
          "name": "stdout",
          "text": [
            "[[8 3 0 7 3]\n",
            " [0 6 9 0 2]\n",
            " [5 9 0 4 8]\n",
            " [8 5 0 8 4]]\n",
            "(4, 5)\n"
          ]
        }
      ]
    },
    {
      "cell_type": "code",
      "source": [
        "#transpose\n",
        "trans=np.transpose(array)\n",
        "print(trans)\n",
        "print(trans.shape)"
      ],
      "metadata": {
        "colab": {
          "base_uri": "https://localhost:8080/"
        },
        "id": "qKAaIdEi64ZF",
        "outputId": "b93110a7-4741-4d1f-d886-bab96e08f4f6"
      },
      "execution_count": 53,
      "outputs": [
        {
          "output_type": "stream",
          "name": "stdout",
          "text": [
            "[[8 0 5 8]\n",
            " [3 6 9 5]\n",
            " [0 9 0 0]\n",
            " [7 0 4 8]\n",
            " [3 2 8 4]]\n",
            "(5, 4)\n"
          ]
        }
      ]
    },
    {
      "cell_type": "code",
      "source": [
        "array=np.random.randint(0,10,(2,3))\n",
        "print(array)\n",
        "print(array.shape)"
      ],
      "metadata": {
        "colab": {
          "base_uri": "https://localhost:8080/"
        },
        "id": "lLlw4U7D7lVU",
        "outputId": "5176b48d-fb9d-4b29-c66d-85ebe9e004cc"
      },
      "execution_count": 54,
      "outputs": [
        {
          "output_type": "stream",
          "name": "stdout",
          "text": [
            "[[9 7 6]\n",
            " [0 8 3]]\n",
            "(2, 3)\n"
          ]
        }
      ]
    },
    {
      "cell_type": "code",
      "source": [
        "trans2=array.T\n",
        "print(trans2)\n",
        "print(trans2.shape)"
      ],
      "metadata": {
        "colab": {
          "base_uri": "https://localhost:8080/"
        },
        "id": "vE_YlHRO7GLw",
        "outputId": "d319b3c0-0d0b-4773-d82b-be9a8b9584bf"
      },
      "execution_count": 56,
      "outputs": [
        {
          "output_type": "stream",
          "name": "stdout",
          "text": [
            "[[9 0]\n",
            " [7 8]\n",
            " [6 3]]\n",
            "(3, 2)\n"
          ]
        }
      ]
    },
    {
      "cell_type": "code",
      "source": [],
      "metadata": {
        "colab": {
          "base_uri": "https://localhost:8080/",
          "height": 141
        },
        "id": "xsR0dqCI8Z2n",
        "outputId": "7b0c6692-49e2-4a8c-cd7b-e95426daa431"
      },
      "execution_count": 62,
      "outputs": [
        {
          "output_type": "error",
          "ename": "ValueError",
          "evalue": "operands could not be broadcast together with shapes (2,3) (3,2) ",
          "traceback": [
            "\u001b[0;31m---------------------------------------------------------------------------\u001b[0m",
            "\u001b[0;31mValueError\u001b[0m                                Traceback (most recent call last)",
            "\u001b[0;32m<ipython-input-62-cefafdb981d7>\u001b[0m in \u001b[0;36m<cell line: 1>\u001b[0;34m()\u001b[0m\n\u001b[0;32m----> 1\u001b[0;31m \u001b[0mtrans_multiply\u001b[0m\u001b[0;34m=\u001b[0m\u001b[0mnp\u001b[0m\u001b[0;34m.\u001b[0m\u001b[0mmultiply\u001b[0m\u001b[0;34m(\u001b[0m\u001b[0marray\u001b[0m\u001b[0;34m,\u001b[0m\u001b[0mtrans2\u001b[0m\u001b[0;34m)\u001b[0m\u001b[0;34m\u001b[0m\u001b[0;34m\u001b[0m\u001b[0m\n\u001b[0m",
            "\u001b[0;31mValueError\u001b[0m: operands could not be broadcast together with shapes (2,3) (3,2) "
          ]
        }
      ]
    },
    {
      "cell_type": "code",
      "source": [
        "#reshaping a array\n",
        "a=np.random.randint(0,10,(2,3))\n",
        "print(a)\n",
        "print(a.shape)"
      ],
      "metadata": {
        "colab": {
          "base_uri": "https://localhost:8080/"
        },
        "id": "f1efRLHk72YV",
        "outputId": "d2d5ee23-bc2c-4cf1-e9c6-d83e2e86eb2b"
      },
      "execution_count": 59,
      "outputs": [
        {
          "output_type": "stream",
          "name": "stdout",
          "text": [
            "[[7 6 0]\n",
            " [0 0 3]]\n",
            "(2, 3)\n"
          ]
        }
      ]
    },
    {
      "cell_type": "code",
      "source": [
        "b= a.reshape(3,2)\n",
        "print(b)\n",
        "print(b.shape)"
      ],
      "metadata": {
        "colab": {
          "base_uri": "https://localhost:8080/"
        },
        "id": "1YPmgFec8D33",
        "outputId": "a1525078-f401-42c9-c7fd-134c11089d7d"
      },
      "execution_count": 60,
      "outputs": [
        {
          "output_type": "stream",
          "name": "stdout",
          "text": [
            "[[7 6]\n",
            " [0 0]\n",
            " [0 3]]\n",
            "(3, 2)\n"
          ]
        }
      ]
    },
    {
      "cell_type": "code",
      "source": [],
      "metadata": {
        "id": "k0_BUU2u8WM7"
      },
      "execution_count": null,
      "outputs": []
    }
  ]
}